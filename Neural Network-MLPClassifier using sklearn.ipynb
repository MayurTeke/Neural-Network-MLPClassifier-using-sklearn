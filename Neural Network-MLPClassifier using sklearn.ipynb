{
 "cells": [
  {
   "cell_type": "markdown",
   "id": "a05a0c4f",
   "metadata": {},
   "source": [
    "# Read data "
   ]
  },
  {
   "cell_type": "code",
   "execution_count": 1,
   "id": "70c8b856",
   "metadata": {},
   "outputs": [],
   "source": [
    "from warnings import filterwarnings\n",
    "filterwarnings(\"ignore\")\n",
    "import pandas as mt\n",
    "A = mt.read_csv(\"C:/Users/SHREE/Desktop/Data/50_Startups.csv\")"
   ]
  },
  {
   "cell_type": "markdown",
   "id": "d0f334c4",
   "metadata": {},
   "source": [
    "# Preview"
   ]
  },
  {
   "cell_type": "code",
   "execution_count": 2,
   "id": "d79e4cd6",
   "metadata": {},
   "outputs": [
    {
     "data": {
      "text/html": [
       "<div>\n",
       "<style scoped>\n",
       "    .dataframe tbody tr th:only-of-type {\n",
       "        vertical-align: middle;\n",
       "    }\n",
       "\n",
       "    .dataframe tbody tr th {\n",
       "        vertical-align: top;\n",
       "    }\n",
       "\n",
       "    .dataframe thead th {\n",
       "        text-align: right;\n",
       "    }\n",
       "</style>\n",
       "<table border=\"1\" class=\"dataframe\">\n",
       "  <thead>\n",
       "    <tr style=\"text-align: right;\">\n",
       "      <th></th>\n",
       "      <th>RND</th>\n",
       "      <th>ADMIN</th>\n",
       "      <th>MKT</th>\n",
       "      <th>STATE</th>\n",
       "      <th>PROFIT</th>\n",
       "    </tr>\n",
       "  </thead>\n",
       "  <tbody>\n",
       "    <tr>\n",
       "      <th>0</th>\n",
       "      <td>165349.20</td>\n",
       "      <td>136897.80</td>\n",
       "      <td>471784.10</td>\n",
       "      <td>New York</td>\n",
       "      <td>192261.83</td>\n",
       "    </tr>\n",
       "    <tr>\n",
       "      <th>1</th>\n",
       "      <td>162597.70</td>\n",
       "      <td>151377.59</td>\n",
       "      <td>443898.53</td>\n",
       "      <td>California</td>\n",
       "      <td>191792.06</td>\n",
       "    </tr>\n",
       "    <tr>\n",
       "      <th>2</th>\n",
       "      <td>153441.51</td>\n",
       "      <td>101145.55</td>\n",
       "      <td>407934.54</td>\n",
       "      <td>Florida</td>\n",
       "      <td>191050.39</td>\n",
       "    </tr>\n",
       "    <tr>\n",
       "      <th>3</th>\n",
       "      <td>144372.41</td>\n",
       "      <td>118671.85</td>\n",
       "      <td>383199.62</td>\n",
       "      <td>New York</td>\n",
       "      <td>182901.99</td>\n",
       "    </tr>\n",
       "    <tr>\n",
       "      <th>4</th>\n",
       "      <td>142107.34</td>\n",
       "      <td>91391.77</td>\n",
       "      <td>366168.42</td>\n",
       "      <td>Florida</td>\n",
       "      <td>166187.94</td>\n",
       "    </tr>\n",
       "  </tbody>\n",
       "</table>\n",
       "</div>"
      ],
      "text/plain": [
       "         RND      ADMIN        MKT       STATE     PROFIT\n",
       "0  165349.20  136897.80  471784.10    New York  192261.83\n",
       "1  162597.70  151377.59  443898.53  California  191792.06\n",
       "2  153441.51  101145.55  407934.54     Florida  191050.39\n",
       "3  144372.41  118671.85  383199.62    New York  182901.99\n",
       "4  142107.34   91391.77  366168.42     Florida  166187.94"
      ]
     },
     "execution_count": 2,
     "metadata": {},
     "output_type": "execute_result"
    }
   ],
   "source": [
    "A.head()"
   ]
  },
  {
   "cell_type": "markdown",
   "id": "37674b47",
   "metadata": {},
   "source": [
    "# Missing data treatment"
   ]
  },
  {
   "cell_type": "code",
   "execution_count": 3,
   "id": "8a934015",
   "metadata": {},
   "outputs": [],
   "source": [
    "from important_tool import replacer\n",
    "replacer(A)"
   ]
  },
  {
   "cell_type": "markdown",
   "id": "3aae68fb",
   "metadata": {},
   "source": [
    "# Define X and Y"
   ]
  },
  {
   "cell_type": "code",
   "execution_count": 4,
   "id": "8a3a91f0",
   "metadata": {},
   "outputs": [],
   "source": [
    "Y = A[[\"STATE\"]]\n",
    "X = A.drop(labels=[\"STATE\"],axis=1)"
   ]
  },
  {
   "cell_type": "markdown",
   "id": "488f8f31",
   "metadata": {},
   "source": [
    "# Proprocessing"
   ]
  },
  {
   "cell_type": "code",
   "execution_count": 5,
   "id": "693c10df",
   "metadata": {},
   "outputs": [],
   "source": [
    "from important_tool import preprocessing1\n",
    "Xnew = preprocessing1(X)"
   ]
  },
  {
   "cell_type": "markdown",
   "id": "d97c53bf",
   "metadata": {},
   "source": [
    "# Divide data in training and testing"
   ]
  },
  {
   "cell_type": "code",
   "execution_count": 6,
   "id": "71bf784e",
   "metadata": {},
   "outputs": [],
   "source": [
    "from sklearn.model_selection import train_test_split\n",
    "xtrain,xtest,ytrain,ytest=train_test_split(Xnew,Y,test_size=0.2,random_state=21)"
   ]
  },
  {
   "cell_type": "markdown",
   "id": "19ad7a4a",
   "metadata": {},
   "source": [
    "# Create Neural Network"
   ]
  },
  {
   "cell_type": "code",
   "execution_count": 7,
   "id": "957425e6",
   "metadata": {},
   "outputs": [],
   "source": [
    "from sklearn.neural_network import MLPClassifier\n",
    "mlc = MLPClassifier(hidden_layer_sizes=(100,100),random_state=21)\n",
    "nn = mlc.fit(xtrain,ytrain)\n",
    "pred_ts = nn.predict(xtest)\n",
    "pred_tr = nn.predict(xtrain)\n",
    "\n",
    "from sklearn.metrics import accuracy_score\n",
    "testing_error = accuracy_score(ytest,pred_ts)\n",
    "training_error = accuracy_score(ytrain,pred_tr)"
   ]
  },
  {
   "cell_type": "code",
   "execution_count": 8,
   "id": "02ef62e7",
   "metadata": {},
   "outputs": [
    {
     "data": {
      "text/plain": [
       "0.5"
      ]
     },
     "execution_count": 8,
     "metadata": {},
     "output_type": "execute_result"
    }
   ],
   "source": [
    "testing_error"
   ]
  },
  {
   "cell_type": "code",
   "execution_count": 9,
   "id": "3fa35604",
   "metadata": {},
   "outputs": [
    {
     "data": {
      "text/plain": [
       "1.0"
      ]
     },
     "execution_count": 9,
     "metadata": {},
     "output_type": "execute_result"
    }
   ],
   "source": [
    "training_error"
   ]
  },
  {
   "cell_type": "code",
   "execution_count": null,
   "id": "424f276b",
   "metadata": {},
   "outputs": [],
   "source": []
  }
 ],
 "metadata": {
  "kernelspec": {
   "display_name": "Python 3 (ipykernel)",
   "language": "python",
   "name": "python3"
  },
  "language_info": {
   "codemirror_mode": {
    "name": "ipython",
    "version": 3
   },
   "file_extension": ".py",
   "mimetype": "text/x-python",
   "name": "python",
   "nbconvert_exporter": "python",
   "pygments_lexer": "ipython3",
   "version": "3.8.13"
  }
 },
 "nbformat": 4,
 "nbformat_minor": 5
}
